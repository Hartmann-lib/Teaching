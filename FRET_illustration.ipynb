{
  "nbformat": 4,
  "nbformat_minor": 0,
  "metadata": {
    "colab": {
      "provenance": []
    },
    "kernelspec": {
      "name": "python3",
      "display_name": "Python 3"
    },
    "language_info": {
      "name": "python"
    }
  },
  "cells": [
    {
      "cell_type": "code",
      "execution_count": 5,
      "metadata": {
        "id": "EmWQSM1RKMa4"
      },
      "outputs": [],
      "source": [
        "from ipywidgets import interactive\n",
        "import matplotlib.pyplot as plt\n",
        "import numpy as np"
      ]
    },
    {
      "cell_type": "markdown",
      "source": [
        "# **Förster radius (R0) and inter-dye distance (R)**"
      ],
      "metadata": {
        "id": "F4wa-2x0ViZf"
      }
    },
    {
      "cell_type": "code",
      "source": [
        "r=np.linspace(0, 10, num=100)\n",
        "\n",
        "def f(R0, R):\n",
        "    plt.figure(2)\n",
        "    plt.plot(r, 1/(1+(r/R0)**6), '-k')\n",
        "    plt.plot(np.array([R, R]), np.array([-0.1, 1/(1+(R/R0)**6)]), '--k')\n",
        "    plt.plot(np.array([0, R]), np.array([1/(1+(R/R0)**6), 1/(1+(R/R0)**6)]), '--k')\n",
        "    plt.xlim(0, 10)\n",
        "    plt.ylim(-0.1, 1.1)\n",
        "    plt.xlabel('$\\it{r}$ (nm)')\n",
        "    plt.ylabel('$\\it{E}$')\n",
        "    plt.show()\n",
        "\n",
        "interactive_plot = interactive(f, R0=widgets.FloatSlider(min=1, max=10, step=0.1, value=5.5), R=widgets.FloatSlider(min=1, max=10, step=0.1, value=5.5))\n",
        "output = interactive_plot.children[-1]\n",
        "output.layout.height = '450px'\n",
        "interactive_plot"
      ],
      "metadata": {
        "id": "QWCIKWSkMbAp"
      },
      "execution_count": null,
      "outputs": []
    },
    {
      "cell_type": "markdown",
      "source": [
        "# **Shot noise in FRET efficiency histograms**"
      ],
      "metadata": {
        "id": "HXMA1G1tb2T4"
      }
    },
    {
      "cell_type": "markdown",
      "source": [
        "**Throwing a coin**"
      ],
      "metadata": {
        "id": "_KBppOlXfFES"
      }
    },
    {
      "cell_type": "code",
      "source": [
        "p_head = 0.5 # probability to land on head\n",
        "N = 10000 # number of throwing the coin\n",
        "\n",
        "# Draw stochastically\n",
        "events = np.random.binomial(1, p_head, N) # 1-> heads and 0->tails\n",
        "\n",
        "# Show distribution\n",
        "edges = np.arange(-0.5, 1.6, 1)\n",
        "print(edges)\n",
        "\n",
        "plt.figure()\n",
        "plt.hist(events, bins=edges, align='mid')\n",
        "plt.xticks([0.2, 0.8], ['heads', 'tails'])\n",
        "plt.ylabel('# Events')\n",
        "plt.xlim(-0.1, 1.1)"
      ],
      "metadata": {
        "id": "bJprvXyNcWo9"
      },
      "execution_count": null,
      "outputs": []
    },
    {
      "cell_type": "markdown",
      "source": [
        "**Energy transfer efficiency**"
      ],
      "metadata": {
        "id": "1KjjkmLhfNVa"
      }
    },
    {
      "cell_type": "code",
      "source": [
        "E_theo = 0.05 # theoretical FRET efficiency\n",
        "Photons = 30 # number of photons per molecule\n",
        "Molecules = 10000\n",
        "\n",
        "# Draw stochastically acceptor and donor photons\n",
        "F_DA = np.random.binomial(Photons, E_theo, Molecules)\n",
        "F_DD = Photons - F_DA\n",
        "\n",
        "# Add low noise\n",
        "I_DD = F_DD + np.random.randn(Molecules)\n",
        "I_DA = F_DA + np.random.randn(Molecules)\n",
        "\n",
        "# FRET calculation\n",
        "E = I_DA/(I_DD + I_DA)\n",
        "\n",
        "# Show distribution\n",
        "edges = np.arange(-0.1+0.015, 1.1, 0.03)\n",
        "\n",
        "plt.figure()\n",
        "plt.hist(E, bins=edges)\n",
        "plt.xlabel('FRET efficiency, $\\it{E}$')\n",
        "plt.ylabel('# Molecules')\n",
        "plt.xlim(-0.1, 1.1)"
      ],
      "metadata": {
        "id": "vvvr5_-nWmim"
      },
      "execution_count": null,
      "outputs": []
    }
  ]
}