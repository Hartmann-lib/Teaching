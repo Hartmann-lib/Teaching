{
  "nbformat": 4,
  "nbformat_minor": 0,
  "metadata": {
    "colab": {
      "provenance": []
    },
    "kernelspec": {
      "name": "python3",
      "display_name": "Python 3"
    },
    "language_info": {
      "name": "python"
    }
  },
  "cells": [
    {
      "cell_type": "markdown",
      "source": [
        "# **Library and data import**"
      ],
      "metadata": {
        "id": "smMElx3miQ7y"
      }
    },
    {
      "cell_type": "code",
      "source": [
        "# import of python libraries\n",
        "from google.colab import files # for file upload to the google colab server\n",
        "import pandas as pd # data import of CV-files\n",
        "import numpy as np # for numerical operations\n",
        "import matplotlib.pyplot as plt # for plotting of data\n",
        "from scipy.optimize import curve_fit # curve fitting tool"
      ],
      "metadata": {
        "id": "VaC-zeL1nm_U"
      },
      "execution_count": 3,
      "outputs": []
    },
    {
      "cell_type": "code",
      "execution_count": null,
      "metadata": {
        "id": "lygY8sTXmKeV"
      },
      "outputs": [],
      "source": [
        "details = files.upload() # google colab file upload query\n",
        "filename=list(details.keys())[0]"
      ]
    },
    {
      "cell_type": "code",
      "source": [
        "usecols = [\"I_DD\", \"I_DA\", \"I_AA\", \"BG_DD\", \"BG_DA\", \"BG_AA\"] # selected columns of CSV-file for data import\n",
        "data = pd.read_csv(filename,sep=\",\",usecols=usecols) # read data from CSV-file\n",
        "data.head() # table preview"
      ],
      "metadata": {
        "id": "AZTi9y9Kus9c"
      },
      "execution_count": null,
      "outputs": []
    },
    {
      "cell_type": "markdown",
      "source": [
        "# **Calculation of corrected FRET efficiency (E) and corrected fluorescence stoichiometry (S)**"
      ],
      "metadata": {
        "id": "Wgd4_m2WhVLY"
      }
    },
    {
      "cell_type": "code",
      "source": [
        "# Intensity values\n",
        "I_DD=data.values[:,0] # donor signal after donor excitation\n",
        "I_DA=data.values[:,1] # acceptor signal after donor excitation (FRET)\n",
        "I_AA=data.values[:,2] # acceptor signal after acceptor excitation\n",
        "\n",
        "# Corresponding background values\n",
        "BG_DD=data.values[:,3]\n",
        "BG_DA=data.values[:,4]\n",
        "BG_AA=data.values[:,5]"
      ],
      "metadata": {
        "id": "x1Cav7ckvoIf"
      },
      "execution_count": 6,
      "outputs": []
    },
    {
      "cell_type": "code",
      "source": [
        "# Background correction\n",
        "# !!!PLEASE COMPLETE THE EQUATIONS FOR THE BACKGROUND CORRECTED INTENSITIES!!!\n",
        "F_DD=\n",
        "F_DA=\n",
        "F_AA="
      ],
      "metadata": {
        "id": "mvXFOys8wWcb"
      },
      "execution_count": 7,
      "outputs": []
    },
    {
      "cell_type": "code",
      "source": [
        "# Uncorrected data\n",
        "# !!!PLEASE COMPLETE THE EQUATIONS FOR THE UNCORRECTED FRET EFFICIENCY AND STOICHIOMETRY!!!\n",
        "E = # apparent FRET efficiency\n",
        "S = # apparent fluorescence stoichiometry"
      ],
      "metadata": {
        "id": "FuJXFczswgla"
      },
      "execution_count": 8,
      "outputs": []
    },
    {
      "cell_type": "code",
      "source": [
        "# data plotting\n",
        "plt.figure()\n",
        "plt.plot(E, S, '.', color='grey', markersize=3)\n",
        "plt.xlabel('FRET efficiency, $\\it{E}_{\\mathrm{app}}$')\n",
        "plt.ylabel('Stoichiometry, $\\it{S}_{\\mathrm{app}}$')\n",
        "plt.axis([-0.1, 1.1, -0.1, 1.1])\n",
        "plt.title(\"Uncorrected data\")"
      ],
      "metadata": {
        "id": "clLhwNgKUWpi"
      },
      "execution_count": null,
      "outputs": []
    },
    {
      "cell_type": "code",
      "source": [
        "# Corrected data\n",
        "# Correction factors\n",
        "# !!!PLEASE FILL IN THE CORRECTION FACTORS FOR CY3 AND CY5!!!\n",
        "alpha= # correction for direct excitation of the acceptor by the donor laser\n",
        "beta= # correction for spectral crosstalk of the donor signal in the acceptor detection channel\n",
        "gamma= # correction for differences in quantum yield and detection efficiency\n",
        "\n",
        "# !!!PLEASE COMPLETE THE EQUATIONS FOR THE CORRECTED FRET EFFICIENCY AND STOICHIOMETRY!!!\n",
        "Ecorr =  # corrected FRET efficiency\n",
        "Scorr =  # corrected stoichiometry"
      ],
      "metadata": {
        "id": "QKovbnIzyMjP"
      },
      "execution_count": 10,
      "outputs": []
    },
    {
      "cell_type": "code",
      "source": [
        "# data plotting\n",
        "plt.figure()\n",
        "plt.plot(Ecorr, Scorr, '.', color='grey', markersize=3)\n",
        "plt.xlabel('FRET efficiency, $\\it{E}_{\\mathrm{corr}}$')\n",
        "plt.ylabel('Stoichiometry, $\\it{S}_{\\mathrm{corr}}$')\n",
        "plt.axis([-0.1, 1.1, -0.1, 1.1])\n",
        "plt.title(\"Corrected data\")"
      ],
      "metadata": {
        "id": "9KQZJKNsUozA"
      },
      "execution_count": null,
      "outputs": []
    },
    {
      "cell_type": "markdown",
      "source": [
        "# **Extraction of double labeled molecules for FRET analysis**"
      ],
      "metadata": {
        "id": "OOyiIvt7gkeq"
      }
    },
    {
      "cell_type": "code",
      "source": [
        "# stoichiometry thresholds to extract molecules with donor and acceptor active S=0.5\n",
        "# !!!PLEASE CHOOSE THRESHOLDS!!!\n",
        "min_S =\n",
        "max_S =\n",
        "\n",
        "# stoichiometry filtered bursts\n",
        "sel_Ecorr=Ecorr[np.logical_and(Scorr>min_S, Scorr<max_S)]\n",
        "sel_Scorr=Scorr[np.logical_and(Scorr>min_S, Scorr<max_S)]"
      ],
      "metadata": {
        "id": "F_zLt8Ay1cAc"
      },
      "execution_count": 12,
      "outputs": []
    },
    {
      "cell_type": "code",
      "source": [
        "# data plotting\n",
        "plt.figure()\n",
        "plt.plot(Ecorr, Scorr, '.', color='grey', markersize=3)\n",
        "plt.plot(sel_Ecorr, sel_Scorr, '+r')\n",
        "plt.xlabel('FRET efficiency, $\\it{E}_{\\mathrm{corr}}$')\n",
        "plt.ylabel('Stoichiometry, $\\it{S}_{\\mathrm{corr}}$')\n",
        "plt.axis([-0.1, 1.1, -0.1, 1.1])\n",
        "plt.title(\"Corrected and filtered data\")"
      ],
      "metadata": {
        "id": "nZLjDZwiyv5u"
      },
      "execution_count": null,
      "outputs": []
    },
    {
      "cell_type": "markdown",
      "source": [
        "# **Sorting of filtered molecules into an E-histogram**"
      ],
      "metadata": {
        "id": "40-n99V5hnoH"
      }
    },
    {
      "cell_type": "code",
      "source": [
        "# calculation of FRET efficiency histogram of filtered data\n",
        "bin_width=0.025 # bin width of histogram bars\n",
        "edges=np.arange(-0.1+0.45*bin_width, 1.1, bin_width) # bin edges\n",
        "\n",
        "# FRET efficiency histogram\n",
        "hist_E, hist_E_edges = np.histogram(sel_Ecorr, edges)\n",
        "x_values=edges[0:-1]+0.5*bin_width"
      ],
      "metadata": {
        "id": "NynSmUQs0MNW"
      },
      "execution_count": 14,
      "outputs": []
    },
    {
      "cell_type": "code",
      "source": [
        "# Histogram plotting\n",
        "plt.figure()\n",
        "plt.hist(sel_Ecorr, bins=edges)\n",
        "plt.xlabel('FRET efficiency, $\\it{E}_{\\mathrm{corr}}$')\n",
        "plt.ylabel('# Molecules')\n",
        "plt.xlim(-0.1, 1.1)"
      ],
      "metadata": {
        "id": "YYp8lAZP26Il"
      },
      "execution_count": null,
      "outputs": []
    },
    {
      "cell_type": "markdown",
      "source": [
        "# **Modeling of FRET efficiency data**"
      ],
      "metadata": {
        "id": "GHorlLJMh8DN"
      }
    },
    {
      "cell_type": "code",
      "source": [
        "# Fitting of histogram data\n",
        "def gauss_function(x, A, x0, sig): # single Gaussian distribution\n",
        "    return A*np.exp(-(x-x0)**2/(2*sig**2))\n",
        "def gauss2_function(x, A1, x0_1, sig1, A2, x0_2, sig2): # two Gaussian distributions\n",
        "    return A1*np.exp(-(x-x0_1)**2/(2*sig1**2))+A2*np.exp(-(x-x0_2)**2/(2*sig2**2))\n",
        "\n",
        "# !!!PLEASE COMPLETE THE FUNCTION FOR THREE GAUSSIAN DISTRIBUTIONS!!!\n",
        "def gauss3_function(x, A1, x0_1, sig1, A2, x0_2, sig2, A3, x0_3, sig3): # three Gaussian distributions\n",
        "    return"
      ],
      "metadata": {
        "id": "oPG59E9o9x37"
      },
      "execution_count": 16,
      "outputs": []
    },
    {
      "cell_type": "markdown",
      "source": [
        "**Single Gaussian distribution**"
      ],
      "metadata": {
        "id": "Mj7qjOz-DU9G"
      }
    },
    {
      "cell_type": "code",
      "source": [
        "# Fit of single Gaussian distribution\n",
        "ini_A = 2000\n",
        "ini_x0 = 0\n",
        "ini_sig = 0.1\n",
        "\n",
        "# curve fitting\n",
        "fit_parameters, covariance = curve_fit(gauss_function, x_values, hist_E, p0 = [ini_A, ini_x0, ini_sig], bounds=(0, [np.inf, 1, 0.2]))\n",
        "\n",
        "# extraction of fitting parameters\n",
        "optimal_A = fit_parameters[0]\n",
        "optimal_x0 = fit_parameters[1]\n",
        "optimal_sig = fit_parameters[2]\n",
        "error_A = np.sqrt(covariance[0,0])\n",
        "error_x0 = np.sqrt(covariance[1,1])\n",
        "error_sig = np.sqrt(covariance[2,2])\n",
        "\n",
        "# fitting curve\n",
        "fitG = gauss_function(x_values, optimal_A, optimal_x0, optimal_sig)\n",
        "\n",
        "# fit residual\n",
        "fit_residual=(hist_E - fitG)\n",
        "reduced_chi_square=np.sum(((hist_E[hist_E!=0] - fitG[hist_E!=0])**2)/hist_E[hist_E!=0])/(np.sum([hist_E!=0])-3)\n",
        "\n",
        "# Plot of the fit result\n",
        "plt.figure()\n",
        "plt.subplot2grid((3, 1), (0, 0), colspan=1, rowspan=2)\n",
        "plt.hist(sel_Ecorr, bins=edges)\n",
        "plt.plot(x_values, gauss_function(x_values, optimal_A, optimal_x0, optimal_sig), '-r')\n",
        "frame1 = plt.gca()\n",
        "frame1.axes.xaxis.set_ticklabels([])\n",
        "plt.ylabel('# Molecules')\n",
        "plt.xlim(-0.1, 1.1)\n",
        "plt.subplot2grid((3, 1), (2, 0), colspan=1, rowspan=1)\n",
        "plt.plot(x_values, fit_residual, '-k')\n",
        "plt.xlabel('FRET efficiency, $\\it{E}_{\\mathrm{corr}}$')\n",
        "plt.ylabel('Residual')\n",
        "plt.xlim(-0.1, 1.1)\n",
        "\n",
        "plt.show()\n",
        "\n",
        "# display fitting parameters\n",
        "print(\"Gauss \\n-------------------\")\n",
        "print(\"A= {a1: 4.3f} +-{a2: 4.3f}\".format(a1 = optimal_A, a2 = error_A))\n",
        "print(\"x0= {b1: 4.3f} +-{b2: 4.3f}\".format(b1 = optimal_x0, b2 = error_x0))\n",
        "print(\"sig= {c1: 4.3f} +-{c2: 4.3f}\".format(c1 = optimal_sig, c2 = error_sig))\n",
        "print(\"\\nRed. chi-squared= {k: 4.3f}\".format(k= reduced_chi_square))"
      ],
      "metadata": {
        "id": "jUqYaHk9-K6M"
      },
      "execution_count": null,
      "outputs": []
    },
    {
      "cell_type": "markdown",
      "source": [
        "**Double Gaussian distribution**"
      ],
      "metadata": {
        "id": "GtIqNQB8DaZV"
      }
    },
    {
      "cell_type": "code",
      "source": [
        "# Fit of two Gaussian distributions one fixed at E=0\n",
        "ini_A1 = 1000\n",
        "ini_x0_1 = 0\n",
        "ini_sig1 = 0.1\n",
        "ini_A2 = 1000\n",
        "ini_x0_2 = 0.2\n",
        "ini_sig2 = 0.1\n",
        "\n",
        "# curve fitting\n",
        "fit_parameters, covariance = curve_fit(gauss2_function, x_values, hist_E, p0 = [ini_A1, ini_x0_1, ini_sig1, ini_A2, ini_x0_2, ini_sig2], bounds=(0, [np.inf, 0.01, 0.2, np.inf, 1, 0.2]))\n",
        "\n",
        "# extraction of fitting parameters\n",
        "optimal_A1 = fit_parameters[0]\n",
        "optimal_x0_1 = fit_parameters[1]\n",
        "optimal_sig1 = fit_parameters[2]\n",
        "optimal_A2 = fit_parameters[3]\n",
        "optimal_x0_2 = fit_parameters[4]\n",
        "optimal_sig2 = fit_parameters[5]\n",
        "error_A1 = np.sqrt(covariance[0,0])\n",
        "error_x0_1 = np.sqrt(covariance[1,1])\n",
        "error_sig1 = np.sqrt(covariance[2,2])\n",
        "error_A2 = np.sqrt(covariance[3,3])\n",
        "error_x0_2 = np.sqrt(covariance[4,4])\n",
        "error_sig2 = np.sqrt(covariance[5,5])\n",
        "\n",
        "# individual fitting curves\n",
        "fitG1 = gauss_function(x_values, optimal_A1, optimal_x0_1, optimal_sig1)\n",
        "fitG2 = gauss_function(x_values, optimal_A2, optimal_x0_2, optimal_sig2)\n",
        "fitG12 = gauss2_function(x_values, optimal_A1, optimal_x0_1, optimal_sig1, optimal_A2, optimal_x0_2, optimal_sig2)\n",
        "\n",
        "# fraction of molecules of each population and their error\n",
        "frac1=np.sum(fitG1)/np.sum(fitG12)\n",
        "frac2=np.sum(fitG2)/np.sum(fitG12)\n",
        "err_frac1=np.sqrt(frac1+frac1**2)/np.sqrt(np.sum(fitG12))\n",
        "err_frac2=np.sqrt(frac2+frac2**2)/np.sqrt(np.sum(fitG12))\n",
        "\n",
        "# fit residual\n",
        "fit_residual=(hist_E - fitG12)\n",
        "reduced_chi_square=np.sum(((hist_E[hist_E!=0] - fitG12[hist_E!=0])**2)/hist_E[hist_E!=0])/(np.sum([hist_E!=0])-5)\n",
        "\n",
        "# Plot of the fit result\n",
        "plt.figure()\n",
        "plt.subplot2grid((3, 1), (0, 0), colspan=1, rowspan=2)\n",
        "plt.hist(sel_Ecorr, bins=edges)\n",
        "plt.plot(x_values, fitG1, '--k')\n",
        "plt.plot(x_values, fitG2, '--k')\n",
        "plt.plot(x_values, fitG12, '-r')\n",
        "frame1 = plt.gca()\n",
        "frame1.axes.xaxis.set_ticklabels([])\n",
        "plt.ylabel('# Molecules')\n",
        "plt.xlim(-0.1, 1.1)\n",
        "plt.subplot2grid((3, 1), (2, 0), colspan=1, rowspan=1)\n",
        "plt.plot(x_values, fit_residual, '-k')\n",
        "plt.xlabel('FRET efficiency, $\\it{E}_{\\mathrm{corr}}$')\n",
        "plt.ylabel('Residual')\n",
        "plt.xlim(-0.1, 1.1)\n",
        "\n",
        "plt.show()\n",
        "\n",
        "# display fitting parameters\n",
        "print(\"Gauss 1\\n-------------------\")\n",
        "print(\"A= {a1: 4.3f} +-{a2: 4.3f}\".format(a1 = optimal_A1, a2 = error_A1))\n",
        "print(\"x0= {b1: 4.3f} +-{b2: 4.3f}\".format(b1 = optimal_x0_1, b2 = error_x0_1))\n",
        "print(\"sig= {c1: 4.3f} +-{c2: 4.3f}\".format(c1 = optimal_sig1, c2 = error_sig1))\n",
        "print(\"\\nGauss 2\\n-------------------\")\n",
        "print(\"A= {a1: 4.3f} +-{a2: 4.3f}\".format(a1 = optimal_A2, a2 = error_A2))\n",
        "print(\"x0= {b1: 4.3f} +-{b2: 4.3f}\".format(b1 = optimal_x0_2, b2 = error_x0_2))\n",
        "print(\"sig= {c1: 4.3f} +-{c2: 4.3f}\".format(c1 = optimal_sig2, c2 = error_sig2))\n",
        "print(\"\\nFraction of molecules in populations \\n-------------------\")\n",
        "print(\"frac1= {l1: 4.3f} +-{l2: 4.3f}\".format(l1= frac1, l2=err_frac1))\n",
        "print(\"frac2= {l1: 4.3f} +-{l2: 4.3f}\".format(l1= frac2, l2=err_frac2))\n",
        "print(\"\\nRed. chi-squared= {k: 4.3f}\".format(k= reduced_chi_square))"
      ],
      "metadata": {
        "id": "H6L9doEGMZeb"
      },
      "execution_count": null,
      "outputs": []
    },
    {
      "cell_type": "markdown",
      "source": [
        "**Three Gaussian distributions**"
      ],
      "metadata": {
        "id": "79OI1oqSDe4d"
      }
    },
    {
      "cell_type": "code",
      "source": [
        "# Fit of three Gaussian distributions one fixed at E=0\n",
        "ini_A1 = 1000\n",
        "ini_sig1 = 0.1\n",
        "ini_x0_1 = 0\n",
        "ini_A2 = 1000\n",
        "ini_x0_2 = 0.2\n",
        "ini_sig2 = 0.1\n",
        "ini_A3 = 1000\n",
        "ini_x0_3 = 0.5\n",
        "ini_sig3 = 0.1\n",
        "\n",
        "# curve fitting\n",
        "fit_parameters, covariance = curve_fit(gauss3_function, x_values, hist_E, p0 = [ini_A1, ini_x0_1, ini_sig1, ini_A2, ini_x0_2, ini_sig2, ini_A3, ini_x0_3, ini_sig3], bounds=(0, [np.inf, 0.01, 0.2, np.inf, 1, 0.2, np.inf, 1, 0.2]))\n",
        "\n",
        "# extraction of fitting parameters\n",
        "optimal_A1 = fit_parameters[0]\n",
        "optimal_x0_1 = fit_parameters[1]\n",
        "optimal_sig1 = fit_parameters[2]\n",
        "optimal_A2 = fit_parameters[3]\n",
        "optimal_x0_2 = fit_parameters[4]\n",
        "optimal_sig2 = fit_parameters[5]\n",
        "optimal_A3 = fit_parameters[6]\n",
        "optimal_x0_3 = fit_parameters[7]\n",
        "optimal_sig3 = fit_parameters[8]\n",
        "error_A1 = np.sqrt(covariance[0,0])\n",
        "error_x0_1 = np.sqrt(covariance[1,1])\n",
        "error_sig1 = np.sqrt(covariance[2,2])\n",
        "error_A2 = np.sqrt(covariance[3,3])\n",
        "error_x0_2 = np.sqrt(covariance[4,4])\n",
        "error_sig2 = np.sqrt(covariance[5,5])\n",
        "error_A3 = np.sqrt(covariance[6,6])\n",
        "error_x0_3 = np.sqrt(covariance[7,7])\n",
        "error_sig3 = np.sqrt(covariance[8,8])\n",
        "\n",
        "# individual fitting curves\n",
        "fitG1 = gauss_function(x_values, optimal_A1, optimal_x0_1, optimal_sig1)\n",
        "fitG2 = gauss_function(x_values, optimal_A2, optimal_x0_2, optimal_sig2)\n",
        "fitG3 = gauss_function(x_values, optimal_A3, optimal_x0_3, optimal_sig3)\n",
        "fitG123 = gauss3_function(x_values, optimal_A1, optimal_x0_1, optimal_sig1, optimal_A2, optimal_x0_2, optimal_sig2, optimal_A3, optimal_x0_3, optimal_sig3)\n",
        "\n",
        "# fraction of molecules of each population and their error\n",
        "frac1=np.sum(fitG1)/np.sum(fitG123)\n",
        "frac2=np.sum(fitG2)/np.sum(fitG123)\n",
        "frac3=np.sum(fitG3)/np.sum(fitG123)\n",
        "err_frac1=np.sqrt(frac1+frac1**2)/np.sqrt(np.sum(fitG123))\n",
        "err_frac2=np.sqrt(frac2+frac2**2)/np.sqrt(np.sum(fitG123))\n",
        "err_frac3=np.sqrt(frac3+frac3**2)/np.sqrt(np.sum(fitG123))\n",
        "\n",
        "# fit residual\n",
        "fit_residual=(hist_E - fitG123)\n",
        "reduced_chi_square=np.sum(((hist_E[hist_E!=0] - fitG123[hist_E!=0])**2)/hist_E[hist_E!=0])/(np.sum([hist_E!=0])-8)\n",
        "\n",
        "# Plot of the fit result\n",
        "plt.figure()\n",
        "plt.subplot2grid((3, 1), (0, 0), colspan=1, rowspan=2)\n",
        "plt.hist(sel_Ecorr, bins=edges)\n",
        "plt.plot(x_values, fitG1, '--k')\n",
        "plt.plot(x_values, fitG2, '--k')\n",
        "plt.plot(x_values, fitG3, '--k')\n",
        "plt.plot(x_values, fitG123, '-r')\n",
        "frame1 = plt.gca()\n",
        "frame1.axes.xaxis.set_ticklabels([])\n",
        "plt.ylabel('# Molecules')\n",
        "plt.xlim(-0.1, 1.1)\n",
        "plt.subplot2grid((3, 1), (2, 0), colspan=1, rowspan=1)\n",
        "plt.plot(x_values, fit_residual, '-k')\n",
        "plt.xlabel('FRET efficiency, $\\it{E}_{\\mathrm{corr}}$')\n",
        "plt.ylabel('Residual')\n",
        "plt.xlim(-0.1, 1.1)\n",
        "\n",
        "plt.show()\n",
        "\n",
        "# display fitting parameters\n",
        "print(\"Gauss 1\\n-------------------\")\n",
        "print(\"A= {a1: 4.3f} +-{a2: 4.3f}\".format(a1 = optimal_A1, a2 = error_A1))\n",
        "print(\"x0= {b1: 4.3f} +-{b2: 4.3f}\".format(b1 = optimal_x0_1, b2 = error_x0_1))\n",
        "print(\"sig= {c1: 4.3f} +-{c2: 4.3f}\".format(c1 = optimal_sig1, c2 = error_sig1))\n",
        "print(\"\\nGauss 2\\n-------------------\")\n",
        "print(\"A= {a1: 4.3f} +-{a2: 4.3f}\".format(a1 = optimal_A2, a2 = error_A2))\n",
        "print(\"x0= {b1: 4.3f} +-{b2: 4.3f}\".format(b1 = optimal_x0_2, b2 = error_x0_2))\n",
        "print(\"sig= {c1: 4.3f} +-{c2: 4.3f}\".format(c1 = optimal_sig2, c2 = error_sig2))\n",
        "print(\"\\nGauss 3\\n-------------------\")\n",
        "print(\"A= {a1: 4.3f} +-{a2: 4.3f}\".format(a1 = optimal_A3, a2 = error_A3))\n",
        "print(\"x0= {b1: 4.3f} +-{b2: 4.3f}\".format(b1 = optimal_x0_3, b2 = error_x0_3))\n",
        "print(\"sig= {c1: 4.3f} +-{c2: 4.3f}\".format(c1 = optimal_sig3, c2 = error_sig3))\n",
        "print(\"\\nFraction of molecules\\n-------------------\")\n",
        "print(\"frac1= {l1: 4.3f} +-{l2: 4.3f}\".format(l1= frac1, l2=err_frac1))\n",
        "print(\"frac2= {l1: 4.3f} +-{l2: 4.3f}\".format(l1= frac2, l2=err_frac2))\n",
        "print(\"frac3= {l1: 4.3f} +-{l2: 4.3f}\".format(l1= frac3, l2=err_frac3))\n",
        "print(\"\\nRed. chi-squared= {k: 4.3f}\".format(k= reduced_chi_square))"
      ],
      "metadata": {
        "id": "BSTmiWM6DyFP"
      },
      "execution_count": null,
      "outputs": []
    }
  ]
}